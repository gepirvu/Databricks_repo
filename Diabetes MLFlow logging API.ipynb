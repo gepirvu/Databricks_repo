{
 "cells": [
  {
   "cell_type": "code",
   "execution_count": 0,
   "metadata": {
    "application/vnd.databricks.v1+cell": {
     "cellMetadata": {
      "byteLimit": 2048000,
      "rowLimit": 10000
     },
     "inputWidgets": {},
     "nuid": "0c913a71-74fb-47c9-8362-a81bacb3c76f",
     "showTitle": false,
     "tableResultSettingsMap": {},
     "title": ""
    }
   },
   "outputs": [],
   "source": [
    "import mlflow\n",
    "import mlflow.sklearn\n",
    "import pandas as pd\n",
    "import matplotlib.pyplot as plt\n",
    "\n",
    "from numpy import savetxt\n",
    "from sklearn.datasets import load_diabetes\n",
    "from sklearn.model_selection import train_test_split\n",
    "\n",
    "from sklearn.ensemble import RandomForestRegressor\n",
    "from sklearn.metrics import mean_squared_error"
   ]
  },
  {
   "cell_type": "code",
   "execution_count": 0,
   "metadata": {
    "application/vnd.databricks.v1+cell": {
     "cellMetadata": {
      "byteLimit": 2048000,
      "rowLimit": 10000
     },
     "inputWidgets": {},
     "nuid": "69acfe95-65d5-48cf-8376-d18b7ab686f7",
     "showTitle": false,
     "tableResultSettingsMap": {},
     "title": ""
    }
   },
   "outputs": [],
   "source": [
    "db = load_diabetes()\n",
    "X = db.data\n",
    "y = db.target\n",
    "X_train, X_test, y_train, y_test = train_test_split(X, y, test_size=0.2, random_state=42)"
   ]
  },
  {
   "cell_type": "code",
   "execution_count": 0,
   "metadata": {
    "application/vnd.databricks.v1+cell": {
     "cellMetadata": {
      "byteLimit": 2048000,
      "rowLimit": 10000
     },
     "inputWidgets": {},
     "nuid": "c1a0044b-7f47-4684-be9c-83dd4c878edc",
     "showTitle": false,
     "tableResultSettingsMap": {},
     "title": ""
    }
   },
   "outputs": [],
   "source": [
    "print (\"Number of samples in X_train are:\", len(X_train))\n",
    "print (\"Number of samples in X_test are:\", len(X_test))\n",
    "print (\"Number of samples in y_train are:\", len(y_train))\n",
    "print (\"Number of samples in y_test are:\", len(y_test))"
   ]
  },
  {
   "cell_type": "code",
   "execution_count": 0,
   "metadata": {
    "application/vnd.databricks.v1+cell": {
     "cellMetadata": {
      "byteLimit": 2048000,
      "rowLimit": 10000
     },
     "inputWidgets": {},
     "nuid": "32390c49-44ff-4f06-9031-45db5c42f70c",
     "showTitle": false,
     "tableResultSettingsMap": {},
     "title": ""
    }
   },
   "outputs": [],
   "source": [
    "print(mlflow.version.VERSION)"
   ]
  },
  {
   "cell_type": "code",
   "execution_count": 0,
   "metadata": {
    "application/vnd.databricks.v1+cell": {
     "cellMetadata": {
      "byteLimit": 2048000,
      "rowLimit": 10000
     },
     "inputWidgets": {},
     "nuid": "71ad949e-67d8-4a1a-a8d5-5b6040bcc866",
     "showTitle": false,
     "tableResultSettingsMap": {},
     "title": ""
    }
   },
   "outputs": [],
   "source": [
    "n_estimators = 100\n",
    "max_depth = 5\n",
    "max_features = 3\n",
    "\n",
    "rf= RandomForestRegressor(n_estimators=n_estimators, max_depth=max_depth, max_features=max_features)\n",
    "rf.fit(X_train, y_train)\n",
    "\n",
    "predictions = rf.predict(X_test)\n"
   ]
  },
  {
   "cell_type": "code",
   "execution_count": 0,
   "metadata": {
    "application/vnd.databricks.v1+cell": {
     "cellMetadata": {},
     "inputWidgets": {},
     "nuid": "73cbb25b-71c0-47c3-9b24-b8291bd26087",
     "showTitle": false,
     "tableResultSettingsMap": {},
     "title": ""
    }
   },
   "outputs": [],
   "source": [
    "experiment_name = \"/Users/d.t.georgian.pirvu@axpo.com/Databricks ML/Diabetes MLFlow logging API 2\"\n",
    "mlflow.set_experiment(experiment_name)"
   ]
  },
  {
   "cell_type": "code",
   "execution_count": 0,
   "metadata": {
    "application/vnd.databricks.v1+cell": {
     "cellMetadata": {
      "byteLimit": 2048000,
      "rowLimit": 10000
     },
     "inputWidgets": {},
     "nuid": "537b4ca5-7605-43ed-aa6e-174ba27ce15d",
     "showTitle": false,
     "tableResultSettingsMap": {},
     "title": ""
    }
   },
   "outputs": [],
   "source": [
    "mlflow.sklearn.autolog()\n",
    "# mlflow.tensorflow.autolog()\n",
    "with mlflow.start_run() as run:\n",
    "    n_estimators = 100\n",
    "    max_depth = 6\n",
    "    max_features = 3    \n",
    "\n",
    "    rf= RandomForestRegressor(n_estimators=n_estimators, max_depth=max_depth, max_features=max_features)\n",
    "    rf.fit(X_train, y_train)\n",
    "\n",
    "    predictions = rf.predict(X_test)\n",
    "\n",
    "    mlflow.log_param(\"num_trees_log\", n_estimators)\n",
    "    mlflow.log_param(\"max_depth_log\", max_depth)\n",
    "    mlflow.log_param(\"max_features_log\", max_features)\n",
    "\n",
    "    mse = mean_squared_error(y_test, predictions)\n",
    "\n",
    "    mlflow.log_metric(\"mse_log\", mse)\n",
    "\n",
    "    mlflow.sklearn.log_model(rf, \"random-forest-model\")\n",
    "\n",
    "    #save the table of predicted values\n",
    "    savetxt(\"predictions.csv\", predictions, delimiter=\",\")\n",
    "\n",
    "    #log the saved table as artifact\n",
    "    mlflow.log_artifact(\"predictions.csv\")\n",
    "\n",
    "    #convert residuals to a pandas df to take advantages of graphic features\n",
    "    df=pd.DataFrame(data = predictions - y_test)\n",
    "\n",
    "    #create a plot of residuals\n",
    "    plt.plot(df)\n",
    "    plt.xlabel(\"Observations\")\n",
    "    plt.ylabel(\"Residuals\")\n",
    "    plt.title(\"Residuals Plot\")\n",
    "\n",
    "    #save the plot and log it as artifact\n",
    "    plt.savefig(\"residuals.png\")\n",
    "    mlflow.log_artifact(\"residuals.png\")\n",
    "\n"
   ]
  },
  {
   "cell_type": "code",
   "execution_count": 0,
   "metadata": {
    "application/vnd.databricks.v1+cell": {
     "cellMetadata": {
      "byteLimit": 2048000,
      "rowLimit": 10000
     },
     "inputWidgets": {},
     "nuid": "9df6f124-4f05-42cf-aa26-b65e83bbf4eb",
     "showTitle": false,
     "tableResultSettingsMap": {},
     "title": ""
    }
   },
   "outputs": [],
   "source": [
    "experiment = mlflow.set_experiment(experiment_name)\n",
    "print(\"Experiment id: {}\".format(experiment.experiment_id))\n",
    "print(\"Artifact location: {}\".format(experiment.artifact_location))\n",
    "print(\"Tags owner: {}\".format(experiment.tags.get('mlflow.ownerEmail')))\n",
    "print(\"Lifecycle stage: {}\".format(experiment.lifecycle_stage))"
   ]
  }
 ],
 "metadata": {
  "application/vnd.databricks.v1+notebook": {
   "computePreferences": null,
   "dashboards": [],
   "environmentMetadata": {
    "base_environment": "",
    "environment_version": "1"
   },
   "language": "python",
   "notebookMetadata": {
    "pythonIndentUnit": 4
   },
   "notebookName": "Diabetes MLFlow logging API",
   "widgets": {}
  },
  "language_info": {
   "name": "python"
  }
 },
 "nbformat": 4,
 "nbformat_minor": 0
}
